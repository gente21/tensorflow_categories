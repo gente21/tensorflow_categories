{
 "cells": [
  {
   "cell_type": "code",
   "execution_count": 1203,
   "id": "7b72032c-f791-48f0-a45b-bd994a98bb8b",
   "metadata": {},
   "outputs": [],
   "source": [
    "import numpy as np\n",
    "import csv\n",
    "import matplotlib.pyplot as plt\n",
    "import os\n",
    "import re\n",
    "import shutil\n",
    "import string\n",
    "import tensorflow as tf\n",
    "\n",
    "from tensorflow.keras import layers\n",
    "from tensorflow.keras import losses\n",
    "\n",
    "# Creamos dir con las categorias\n",
    "newpath = './categories' \n",
    "if not os.path.exists(newpath):\n",
    "    os.makedirs(newpath)\n",
    "\n",
    "# Folders de train y test\n",
    "newpath_train = './categories/train'\n",
    "newpath_test = './categories/test'\n",
    "\n",
    "def save_file(folder, text):\n",
    "    with open(folder, 'w') as text_file:\n",
    "        print(text, file=text_file)\n",
    "\n",
    "# Obtenemos train\n",
    "def csv_to_folders(source_file, target_folder):\n",
    "    with open(source_file) as csvfile:\n",
    "        reader = csv.reader(csvfile, delimiter=',')\n",
    "        step = 0\n",
    "        for row in reader:\n",
    "            cat_folder = target_folder+'/'+row[1]\n",
    "            target_file = cat_folder+'/'+str(step)+'_'+row[1]+'.txt'\n",
    "            if not os.path.exists(cat_folder):\n",
    "                os.makedirs(cat_folder)\n",
    "                save_file(target_file, row[2])\n",
    "            else:\n",
    "                save_file(target_file, row[2])\n",
    "            step += 1\n",
    "\n",
    "csv_to_folders('/Users/raulrodriguez_demarque/demarque/market/categories_10000.csv', newpath_train)\n",
    "csv_to_folders('/Users/raulrodriguez_demarque/demarque/market/categories_1000_test.csv', newpath_test)\n"
   ]
  },
  {
   "cell_type": "code",
   "execution_count": 1204,
   "id": "e9f7a6fb-c507-4a0f-8cd2-ed1fcbaf14e7",
   "metadata": {},
   "outputs": [
    {
     "name": "stdout",
     "output_type": "stream",
     "text": [
      "Found 10000 files belonging to 1203 classes.\n",
      "Using 8000 files for training.\n"
     ]
    }
   ],
   "source": [
    "batch_size = 6\n",
    "seed = 42\n",
    "\n",
    "raw_train_ds = tf.keras.utils.text_dataset_from_directory(\n",
    "    newpath_train,\n",
    "    batch_size=batch_size,\n",
    "    validation_split=0.2,\n",
    "    subset='training',\n",
    "    label_mode='categorical',\n",
    "    shuffle=True,\n",
    "    seed=seed)\n",
    "\n",
    "# print(raw_train_ds.unbatch())"
   ]
  },
  {
   "cell_type": "code",
   "execution_count": 1207,
   "id": "59968852-e7db-4ecb-8332-c4883edd697e",
   "metadata": {},
   "outputs": [],
   "source": [
    "def custom_standardization(input_data):\n",
    "  lowercase = tf.strings.lower(input_data)\n",
    "  stripped_html = tf.strings.regex_replace(lowercase, '<br />', ' ')\n",
    "  return tf.strings.regex_replace(stripped_html,\n",
    "                                  '[%s]' % re.escape(string.punctuation),\n",
    "                                  '')\n",
    "max_features = 10000\n",
    "sequence_length = 250\n",
    "\n",
    "vectorize_layer = layers.TextVectorization(\n",
    "    standardize=custom_standardization,\n",
    "    max_tokens=max_features,\n",
    "    output_mode='int',\n",
    "    output_sequence_length=sequence_length\n",
    ")"
   ]
  },
  {
   "cell_type": "code",
   "execution_count": 1208,
   "id": "e2da9be3-6984-40ea-80a5-9235f858f6fa",
   "metadata": {},
   "outputs": [
    {
     "name": "stdout",
     "output_type": "stream",
     "text": [
      "----------------------- SEPARATOR ----------------------------\n",
      "Text b'Most of us look at our days in the wrong way: We exaggerate yesterday. We overestimate tomorrow. We underestimate today. The truth is that the most important day you will ever experience is today. Today is the key to your success. Maxwell offers 12 decisions and disciplines - he calls it his daily dozen - that can be learned and mastered by any person to achieve success.\\n'\n",
      "Category [0. 0. 0. ... 0. 0. 0.]\n",
      "Text b'\\n        From the screenwriter of Jurassic Park and War of the Worlds comes the wild and terrifying adventure you\\xe2\\x80\\x99ve been waiting for \\xe2\\x80\\x93 see how it all begins with this FREE EBOOK SAMPLER . . .\\n        When Pentagon bioterror operative Roberto Diaz was sent to investigate a suspected biochemical attack, he found something far worse: a highly mutative organism capable of extinction-level destruction.\\n        Now, after decades of festering in a forgotten sub-basement, the specimen has found its way out and is on a lethal feeding frenzy. And only Diaz knows how to stop it.\\n        He races across the country to help two unwitting security guards \\xe2\\x80\\x93 one an ex-con, the other a single mother. Over one harrowing night, the unlikely trio must figure out how to quarantine this horror again . . . before it\\xe2\\x80\\x99s too late,\\n        \\n          PRAISE FOR COLD STORAGE\\n        \\n        \\xe2\\x80\\x98Depending on your taste in humour and gore threshold, you may well be grinning and gagging in equal measure reading this debut novel from top Hollywood scriptwriter David Koepp. This is about as near to Zombieland or Tremors in book form as you\\xe2\\x80\\x99re likely to find. It is properly, full-on gross in places but populated with a vividly drawn cast of believably down-to-earth characters in a plot that accelerates to breakneck pace by the breathless finale\\xe2\\x80\\x99 SFX Magazine\\n        \\xe2\\x80\\x98To be simultaneously terrifying and hilarious is a masterstroke few writers can pull off, but Koepp manages in this incredible fiction debut that calls to mind a beautiful hybrid of Michael Crichton and Carl Hiassen. Cold Storage is sheer thrillery goodness, and riotously entertaining\\xe2\\x80\\x99 Blake Crouch, New York Times bestselling author of Dark Matter\\n        \\xe2\\x80\\x98A pacy and roaringly entertaining thriller\\xe2\\x80\\x99 Magic Radio\\n        \\xe2\\x80\\x98A thrilling, funny, and unexpectedly moving joy ride\\xe2\\x80\\x99 Scott Smith, New York Times bestselling author of A Simple Plan\\n        \\xe2\\x80\\x98Koepp has resurrected Crichton, injecting every page with dark humour and humanity. You\\xe2\\x80\\x99ll be laughing one minute and checking your long-term survival plan the next\\xe2\\x80\\x99 Christina Dalcher, Sunday Times-bestselling author of VOX\\n        \\xe2\\x80\\x98This is a terrific thriller: ambitious, audacious, gory, scary, flamboyant, and funny\\xe2\\x80\\x99 Booklist\\n        \\xe2\\x80\\x98Cold Storage is so addictive, I couldn\\xe2\\x80\\x99t turn the pages fast enough . . .  the story is just as contagious as the subject\\xe2\\x80\\x99 New York Times bestselling author Alice Feeney\\n        \\xe2\\x80\\x98You might as well put your plans on ice for the next twenty-four hours, as all you\\xe2\\x80\\x99ll be doing is reading this book.&nbsp; The very definition of \\xe2\\x80\\x98thriller,\\xe2\\x80\\x99 David Koepp\\xe2\\x80\\x99s Cold Storage grabs you and shakes you and ultimately leaves you grinning\\xe2\\x80\\x99 Scott Frank, Academy Award-nominated writer of Logan and Out of Sight\\n      \\n'\n",
      "Category [0. 0. 0. ... 0. 0. 0.]\n",
      "Text b'Can you tell who is a traitor, and who is an innocent bystander? &nbsp; Put your instinct and deductive reasoning to the test with this collection of 12 riveting conundrums waiting to be unravelled. &nbsp; Each scenario will immerse you in a world of shady characters, diverse motives and intriguing settings that will demand your very best investigative skills to catch the imposter \\xe2\\x80\\x93 or imposters \\xe2\\x80\\x93 in the group. &nbsp; Uncover the mole who tipped off the police, identify the source of a scandalous leaked photo to the press, or discover the family member who stole from a bereaved family,&nbsp;The Imposter Puzzle Book&nbsp;is perfect for cunning amateur detectives eager to test their powers of deduction.\\n'\n",
      "Category [0. 0. 0. ... 0. 0. 0.]\n",
      "----------------------- SEPARATOR ----------------------------\n"
     ]
    },
    {
     "name": "stderr",
     "output_type": "stream",
     "text": [
      "2024-05-05 07:17:10.328881: W tensorflow/core/framework/local_rendezvous.cc:404] Local rendezvous is aborting with status: OUT_OF_RANGE: End of sequence\n"
     ]
    }
   ],
   "source": [
    "print(\"----------------------- SEPARATOR ----------------------------\")\n",
    "for text_batch, label_batch in raw_train_ds.take(1):\n",
    "  for i in range(3):\n",
    "    print(\"Text\", text_batch.numpy()[i])\n",
    "    print(\"Category\", label_batch.numpy()[i])\n",
    "print(\"----------------------- SEPARATOR ----------------------------\")"
   ]
  },
  {
   "cell_type": "code",
   "execution_count": 1209,
   "id": "27dbcc00-2353-45e8-86c9-01604f19e97e",
   "metadata": {},
   "outputs": [
    {
     "name": "stdout",
     "output_type": "stream",
     "text": [
      "Label 0 corresponds to FBANT000000\n",
      "Label 1 corresponds to FBANT005000\n"
     ]
    }
   ],
   "source": [
    "print(\"Label 0 corresponds to\", raw_train_ds.class_names[0])\n",
    "print(\"Label 1 corresponds to\", raw_train_ds.class_names[1])"
   ]
  },
  {
   "cell_type": "code",
   "execution_count": 1210,
   "id": "ba58c99a-c57e-4984-bd8c-a4cdfbf6647a",
   "metadata": {},
   "outputs": [
    {
     "name": "stdout",
     "output_type": "stream",
     "text": [
      "Found 10000 files belonging to 1203 classes.\n",
      "Using 2000 files for validation.\n"
     ]
    }
   ],
   "source": [
    "raw_val_ds = tf.keras.utils.text_dataset_from_directory(\n",
    "    newpath_train,\n",
    "    batch_size=batch_size,\n",
    "    validation_split=0.2,\n",
    "    subset='validation',\n",
    "    shuffle=True,\n",
    "    label_mode='categorical', # para CategoricalCrossentropy\n",
    "    seed=seed)"
   ]
  },
  {
   "cell_type": "code",
   "execution_count": 1240,
   "id": "0e0ab2a5-9fc6-4810-9876-13373269ef50",
   "metadata": {},
   "outputs": [
    {
     "name": "stdout",
     "output_type": "stream",
     "text": [
      "Found 1020 files belonging to 413 classes.\n"
     ]
    }
   ],
   "source": [
    "raw_test_ds = tf.keras.utils.text_dataset_from_directory(\n",
    "    newpath_test,\n",
    "    batch_size=batch_size,\n",
    "    #shuffle=True,\n",
    "    #label_mode='categorical' # CategoricalCrossentropy\n",
    ")"
   ]
  },
  {
   "cell_type": "code",
   "execution_count": 1241,
   "id": "9ed0ba62-7f03-4524-9976-e82ff261fc94",
   "metadata": {},
   "outputs": [],
   "source": [
    "def custom_standardization(input_data):\n",
    "  lowercase = tf.strings.lower(input_data)\n",
    "  stripped_html = tf.strings.regex_replace(lowercase, '<br />', ' ')\n",
    "  return tf.strings.regex_replace(stripped_html,\n",
    "                                  '[%s]' % re.escape(string.punctuation),\n",
    "                                  '')"
   ]
  },
  {
   "cell_type": "code",
   "execution_count": 1242,
   "id": "fa5f14aa-b502-4ddf-a40f-3631848f71a2",
   "metadata": {},
   "outputs": [],
   "source": [
    "max_features = 10000\n",
    "sequence_length = 250\n",
    "\n",
    "vectorize_layer = layers.TextVectorization(\n",
    "    standardize=custom_standardization,\n",
    "    max_tokens=max_features,\n",
    "    output_mode='int',\n",
    "    output_sequence_length=sequence_length\n",
    ")"
   ]
  },
  {
   "cell_type": "code",
   "execution_count": 1243,
   "id": "57eb833c-7751-410e-903f-9c7584fea871",
   "metadata": {},
   "outputs": [
    {
     "name": "stdout",
     "output_type": "stream",
     "text": [
      ">> train_text: <_MapDataset element_spec=TensorSpec(shape=(None,), dtype=tf.string, name=None)>\n",
      ">> vectorize_layer adapted: <TextVectorization name=text_vectorization_36, built=False>\n"
     ]
    },
    {
     "name": "stderr",
     "output_type": "stream",
     "text": [
      "2024-05-05 07:40:37.959092: W tensorflow/core/framework/local_rendezvous.cc:404] Local rendezvous is aborting with status: OUT_OF_RANGE: End of sequence\n"
     ]
    }
   ],
   "source": [
    "# Make a text-only dataset (without labels), then call adapt\n",
    "train_text = raw_train_ds.map(lambda x, y: x)\n",
    "print(\">> train_text: \"+str(train_text))\n",
    "vectorize_layer.adapt(train_text)\n",
    "print(\">> vectorize_layer adapted: \"+str(vectorize_layer))"
   ]
  },
  {
   "cell_type": "code",
   "execution_count": 1244,
   "id": "e2e45e07-3a8f-4dc0-9a2a-4aa9c01a01f3",
   "metadata": {},
   "outputs": [],
   "source": [
    "def vectorize_text(text, label):\n",
    "  text = tf.expand_dims(text, -1)\n",
    "  return vectorize_layer(text), label"
   ]
  },
  {
   "cell_type": "code",
   "execution_count": 1245,
   "id": "b17a37f9-4247-43ce-a533-f1eb8a932b9c",
   "metadata": {},
   "outputs": [
    {
     "name": "stdout",
     "output_type": "stream",
     "text": [
      ">> text_batch[0]: tf.Tensor(b\"The wily Texan El Borak, a hardened fighter who stalks the sandscapes of Afghanistan like a vengeful wolf, is rivaled among Howard's creations only by Conan himself. Truly an enduring masterpiece of creative fiction, Tale of El Borak is not to be missed!\\n\", shape=(), dtype=string)\n",
      ">> label_batch[0]: tf.Tensor([0. 0. 0. ... 0. 0. 0.], shape=(1203,), dtype=float32)\n",
      "Review tf.Tensor(b\"The wily Texan El Borak, a hardened fighter who stalks the sandscapes of Afghanistan like a vengeful wolf, is rivaled among Howard's creations only by Conan himself. Truly an enduring masterpiece of creative fiction, Tale of El Borak is not to be missed!\\n\", shape=(), dtype=string)\n",
      "Vectorized review (<tf.Tensor: shape=(1, 250), dtype=int64, numpy=\n",
      "array([[   2,    1,    1, 4197,    1,    5, 8179, 5379,   30,    1,    2,\n",
      "           1,    4, 4825,   98,    5,    1, 1427,    9,    1,  265,    1,\n",
      "        6254,   63,   19,  135,  162,  899,   21, 1361, 3044,    4,  822,\n",
      "         209,  276,    4, 4197,    1,    9,   45,    6,   28, 7286,    0,\n",
      "           0,    0,    0,    0,    0,    0,    0,    0,    0,    0,    0,\n",
      "           0,    0,    0,    0,    0,    0,    0,    0,    0,    0,    0,\n",
      "           0,    0,    0,    0,    0,    0,    0,    0,    0,    0,    0,\n",
      "           0,    0,    0,    0,    0,    0,    0,    0,    0,    0,    0,\n",
      "           0,    0,    0,    0,    0,    0,    0,    0,    0,    0,    0,\n",
      "           0,    0,    0,    0,    0,    0,    0,    0,    0,    0,    0,\n",
      "           0,    0,    0,    0,    0,    0,    0,    0,    0,    0,    0,\n",
      "           0,    0,    0,    0,    0,    0,    0,    0,    0,    0,    0,\n",
      "           0,    0,    0,    0,    0,    0,    0,    0,    0,    0,    0,\n",
      "           0,    0,    0,    0,    0,    0,    0,    0,    0,    0,    0,\n",
      "           0,    0,    0,    0,    0,    0,    0,    0,    0,    0,    0,\n",
      "           0,    0,    0,    0,    0,    0,    0,    0,    0,    0,    0,\n",
      "           0,    0,    0,    0,    0,    0,    0,    0,    0,    0,    0,\n",
      "           0,    0,    0,    0,    0,    0,    0,    0,    0,    0,    0,\n",
      "           0,    0,    0,    0,    0,    0,    0,    0,    0,    0,    0,\n",
      "           0,    0,    0,    0,    0,    0,    0,    0,    0,    0,    0,\n",
      "           0,    0,    0,    0,    0,    0,    0,    0,    0,    0,    0,\n",
      "           0,    0,    0,    0,    0,    0,    0,    0,    0,    0,    0,\n",
      "           0,    0,    0,    0,    0,    0,    0,    0]])>, <tf.Tensor: shape=(1203,), dtype=float32, numpy=array([0., 0., 0., ..., 0., 0., 0.], dtype=float32)>)\n"
     ]
    }
   ],
   "source": [
    "# retrieve a batch (of 32 reviews and labels) from the dataset\n",
    "text_batch, label_batch = next(iter(raw_train_ds))\n",
    "print(\">> text_batch[0]: \"+str(text_batch[0]))\n",
    "print(\">> label_batch[0]: \"+str(label_batch[0]))\n",
    "\n",
    "first_review, first_label = text_batch[0], label_batch[0]\n",
    "print(\"Review\", first_review)\n",
    "#print(\"Label\", raw_train_ds.class_names[first_label])\n",
    "print(\"Vectorized review\", vectorize_text(first_review, first_label))"
   ]
  },
  {
   "cell_type": "code",
   "execution_count": 1246,
   "id": "1596cb24-5d6b-45f5-a255-170dec6fbb28",
   "metadata": {},
   "outputs": [
    {
     "name": "stdout",
     "output_type": "stream",
     "text": [
      "1287 --->  critic\n",
      " 313 --->  wrote\n",
      "Vocabulary size: 10000\n"
     ]
    }
   ],
   "source": [
    "print(\"1287 ---> \",vectorize_layer.get_vocabulary()[1287])\n",
    "print(\" 313 ---> \",vectorize_layer.get_vocabulary()[313])\n",
    "print('Vocabulary size: {}'.format(len(vectorize_layer.get_vocabulary())))"
   ]
  },
  {
   "cell_type": "code",
   "execution_count": 1247,
   "id": "7835f113-c11b-4d74-8db0-8dca6c83aec1",
   "metadata": {},
   "outputs": [],
   "source": [
    "train_ds = raw_train_ds.map(vectorize_text)\n",
    "val_ds = raw_val_ds.map(vectorize_text)\n",
    "test_ds = raw_test_ds.map(vectorize_text)"
   ]
  },
  {
   "cell_type": "code",
   "execution_count": 1248,
   "id": "9e47ab99-78d3-4eaf-b1bc-c329d89dfccc",
   "metadata": {},
   "outputs": [],
   "source": [
    "# max_acc = 0\n",
    "# class myCallback(tf.keras.callbacks.Callback): \n",
    "#     def on_epoch_end(self, epoch, logs={}): \n",
    "#         global max_acc\n",
    "#         if(logs.get('accuracy') < max_acc):\n",
    "#             print(\"\\n>> Overfitting at \"+str(logs.get('accuracy'))+\"!!\")   \n",
    "#             self.model.stop_training = True\n",
    "#         print(\">> ES: \"+str(logs.get('accuracy')))\n",
    "#         max_acc = logs.get('accuracy')\n",
    "\n",
    "# callbacks = myCallback()"
   ]
  },
  {
   "cell_type": "code",
   "execution_count": 1264,
   "id": "d6180ad7-bb9a-41e9-ac86-1fb5bc4b69a0",
   "metadata": {},
   "outputs": [
    {
     "data": {
      "text/html": [
       "<pre style=\"white-space:pre;overflow-x:auto;line-height:normal;font-family:Menlo,'DejaVu Sans Mono',consolas,'Courier New',monospace\"><span style=\"font-weight: bold\">Model: \"sequential_240\"</span>\n",
       "</pre>\n"
      ],
      "text/plain": [
       "\u001b[1mModel: \"sequential_240\"\u001b[0m\n"
      ]
     },
     "metadata": {},
     "output_type": "display_data"
    },
    {
     "data": {
      "text/html": [
       "<pre style=\"white-space:pre;overflow-x:auto;line-height:normal;font-family:Menlo,'DejaVu Sans Mono',consolas,'Courier New',monospace\">┏━━━━━━━━━━━━━━━━━━━━━━━━━━━━━━━━━┳━━━━━━━━━━━━━━━━━━━━━━━━┳━━━━━━━━━━━━━━━┓\n",
       "┃<span style=\"font-weight: bold\"> Layer (type)                    </span>┃<span style=\"font-weight: bold\"> Output Shape           </span>┃<span style=\"font-weight: bold\">       Param # </span>┃\n",
       "┡━━━━━━━━━━━━━━━━━━━━━━━━━━━━━━━━━╇━━━━━━━━━━━━━━━━━━━━━━━━╇━━━━━━━━━━━━━━━┩\n",
       "│ embedding (<span style=\"color: #0087ff; text-decoration-color: #0087ff\">Embedding</span>)           │ ?                      │   <span style=\"color: #00af00; text-decoration-color: #00af00\">0</span> (unbuilt) │\n",
       "├─────────────────────────────────┼────────────────────────┼───────────────┤\n",
       "│ dropout_66 (<span style=\"color: #0087ff; text-decoration-color: #0087ff\">Dropout</span>)            │ ?                      │             <span style=\"color: #00af00; text-decoration-color: #00af00\">0</span> │\n",
       "├─────────────────────────────────┼────────────────────────┼───────────────┤\n",
       "│ global_average_pooling1d_47     │ ?                      │   <span style=\"color: #00af00; text-decoration-color: #00af00\">0</span> (unbuilt) │\n",
       "│ (<span style=\"color: #0087ff; text-decoration-color: #0087ff\">GlobalAveragePooling1D</span>)        │                        │               │\n",
       "├─────────────────────────────────┼────────────────────────┼───────────────┤\n",
       "│ dropout_67 (<span style=\"color: #0087ff; text-decoration-color: #0087ff\">Dropout</span>)            │ ?                      │             <span style=\"color: #00af00; text-decoration-color: #00af00\">0</span> │\n",
       "├─────────────────────────────────┼────────────────────────┼───────────────┤\n",
       "│ dense_647 (<span style=\"color: #0087ff; text-decoration-color: #0087ff\">Dense</span>)               │ ?                      │   <span style=\"color: #00af00; text-decoration-color: #00af00\">0</span> (unbuilt) │\n",
       "└─────────────────────────────────┴────────────────────────┴───────────────┘\n",
       "</pre>\n"
      ],
      "text/plain": [
       "┏━━━━━━━━━━━━━━━━━━━━━━━━━━━━━━━━━┳━━━━━━━━━━━━━━━━━━━━━━━━┳━━━━━━━━━━━━━━━┓\n",
       "┃\u001b[1m \u001b[0m\u001b[1mLayer (type)                   \u001b[0m\u001b[1m \u001b[0m┃\u001b[1m \u001b[0m\u001b[1mOutput Shape          \u001b[0m\u001b[1m \u001b[0m┃\u001b[1m \u001b[0m\u001b[1m      Param #\u001b[0m\u001b[1m \u001b[0m┃\n",
       "┡━━━━━━━━━━━━━━━━━━━━━━━━━━━━━━━━━╇━━━━━━━━━━━━━━━━━━━━━━━━╇━━━━━━━━━━━━━━━┩\n",
       "│ embedding (\u001b[38;5;33mEmbedding\u001b[0m)           │ ?                      │   \u001b[38;5;34m0\u001b[0m (unbuilt) │\n",
       "├─────────────────────────────────┼────────────────────────┼───────────────┤\n",
       "│ dropout_66 (\u001b[38;5;33mDropout\u001b[0m)            │ ?                      │             \u001b[38;5;34m0\u001b[0m │\n",
       "├─────────────────────────────────┼────────────────────────┼───────────────┤\n",
       "│ global_average_pooling1d_47     │ ?                      │   \u001b[38;5;34m0\u001b[0m (unbuilt) │\n",
       "│ (\u001b[38;5;33mGlobalAveragePooling1D\u001b[0m)        │                        │               │\n",
       "├─────────────────────────────────┼────────────────────────┼───────────────┤\n",
       "│ dropout_67 (\u001b[38;5;33mDropout\u001b[0m)            │ ?                      │             \u001b[38;5;34m0\u001b[0m │\n",
       "├─────────────────────────────────┼────────────────────────┼───────────────┤\n",
       "│ dense_647 (\u001b[38;5;33mDense\u001b[0m)               │ ?                      │   \u001b[38;5;34m0\u001b[0m (unbuilt) │\n",
       "└─────────────────────────────────┴────────────────────────┴───────────────┘\n"
      ]
     },
     "metadata": {},
     "output_type": "display_data"
    },
    {
     "data": {
      "text/html": [
       "<pre style=\"white-space:pre;overflow-x:auto;line-height:normal;font-family:Menlo,'DejaVu Sans Mono',consolas,'Courier New',monospace\"><span style=\"font-weight: bold\"> Total params: </span><span style=\"color: #00af00; text-decoration-color: #00af00\">0</span> (0.00 B)\n",
       "</pre>\n"
      ],
      "text/plain": [
       "\u001b[1m Total params: \u001b[0m\u001b[38;5;34m0\u001b[0m (0.00 B)\n"
      ]
     },
     "metadata": {},
     "output_type": "display_data"
    },
    {
     "data": {
      "text/html": [
       "<pre style=\"white-space:pre;overflow-x:auto;line-height:normal;font-family:Menlo,'DejaVu Sans Mono',consolas,'Courier New',monospace\"><span style=\"font-weight: bold\"> Trainable params: </span><span style=\"color: #00af00; text-decoration-color: #00af00\">0</span> (0.00 B)\n",
       "</pre>\n"
      ],
      "text/plain": [
       "\u001b[1m Trainable params: \u001b[0m\u001b[38;5;34m0\u001b[0m (0.00 B)\n"
      ]
     },
     "metadata": {},
     "output_type": "display_data"
    },
    {
     "data": {
      "text/html": [
       "<pre style=\"white-space:pre;overflow-x:auto;line-height:normal;font-family:Menlo,'DejaVu Sans Mono',consolas,'Courier New',monospace\"><span style=\"font-weight: bold\"> Non-trainable params: </span><span style=\"color: #00af00; text-decoration-color: #00af00\">0</span> (0.00 B)\n",
       "</pre>\n"
      ],
      "text/plain": [
       "\u001b[1m Non-trainable params: \u001b[0m\u001b[38;5;34m0\u001b[0m (0.00 B)\n"
      ]
     },
     "metadata": {},
     "output_type": "display_data"
    }
   ],
   "source": [
    "embedding_dim = 16\n",
    "\n",
    "# vectorize_layer = tf.keras.layers.TextVectorization(\n",
    "#     output_mode='int',\n",
    "#     ngrams=5,\n",
    "#     output_sequence_length=100)\n",
    "\n",
    "# vectorize_layer.adapt(X_train)\n",
    "\n",
    "# basado en https://medium.com/blocksurvey/building-multi-class-text-classifier-using-tensorflow-keras-2148586e69ad\n",
    "model = tf.keras.Sequential([\n",
    "\n",
    "    # ESTA COMBINACION FUNCIONA (sin one-hot encoding) \n",
    "    tf.keras.layers.Embedding(max_features, embedding_dim, name='embedding'),\n",
    "    # tf.keras.layers.Flatten(),\n",
    "    # tf.keras.layers.Dense(1024, activation='sigmoid'),\n",
    "    tf.keras.layers.Dropout(0.2),\n",
    "    tf.keras.layers.GlobalAveragePooling1D(),\n",
    "    tf.keras.layers.Dropout(0.2),\n",
    "    # tf.keras.layers.Dense(1024, activation='relu'),\n",
    "    # tf.keras.layers.Dense(256, activation='relu'),\n",
    "    tf.keras.layers.Dense(1203, activation='softmax')\n",
    "\n",
    "    # original sin errores\n",
    "    # tf.keras.layers.Dense(64, input_shape=(250,), activation = 'relu'), # NO TOCAR!!!\n",
    "    # tf.keras.layers.Dropout(0.2),\n",
    "    # tf.keras.layers.Dense(1024, activation='relu'),\n",
    "    # tf.keras.layers.Dense(1024, activation='relu'),\n",
    "    # tf.keras.layers.Dense(1203, activation='softmax')\n",
    "    \n",
    "])\n",
    "\n",
    "model.summary()\n",
    "\n",
    "# for i, layer in enumerate(model.layers):\n",
    "#     if i < 2:\n",
    "#         exit\n",
    "#     print(\"-----------------------------------\")\n",
    "#     print(layer.get_config(), layer.get_weights())\n",
    "\n"
   ]
  },
  {
   "cell_type": "code",
   "execution_count": 1265,
   "id": "0d09d160-475c-4128-bd8d-725a1478e695",
   "metadata": {},
   "outputs": [],
   "source": [
    "AUTOTUNE = tf.data.AUTOTUNE\n",
    "train_ds = train_ds.cache().prefetch(buffer_size=AUTOTUNE)\n",
    "val_ds = val_ds.cache().prefetch(buffer_size=AUTOTUNE)\n",
    "test_ds = test_ds.cache().prefetch(buffer_size=AUTOTUNE)"
   ]
  },
  {
   "cell_type": "code",
   "execution_count": 1266,
   "id": "d3954b15-1a98-4cee-b6fe-f3bdd5ea587d",
   "metadata": {},
   "outputs": [],
   "source": [
    "model.compile(\n",
    "    # Tiene que ser sparse_categorical si los labels no estan one_hot encoded\n",
    "    # loss=tf.keras.losses.SparseCategoricalCrossentropy(reduction=\"sum\"),\n",
    "    # optimizer=tf.keras.optimizers.SGD(learning_rate=0.01),\n",
    "    # metrics=['accuracy']\n",
    "\n",
    "    # De otra forma hay que usar CategoricalCrossentropy si son one_hot encoded\n",
    "    loss=tf.keras.losses.CategoricalCrossentropy(),\n",
    "    optimizer=tf.keras.optimizers.Adam(learning_rate=0.01),\n",
    "    metrics=['accuracy']\n",
    ")\n",
    "# model.compile(loss='categorical_crossentropy', optimizer='adam', metrics=['accuracy'])"
   ]
  },
  {
   "cell_type": "code",
   "execution_count": 1267,
   "id": "782b53ea-01ac-40bc-8be8-decf2599e6b1",
   "metadata": {},
   "outputs": [
    {
     "name": "stdout",
     "output_type": "stream",
     "text": [
      "Epoch 1/30\n",
      "\u001b[1m1334/1334\u001b[0m \u001b[32m━━━━━━━━━━━━━━━━━━━━\u001b[0m\u001b[37m\u001b[0m \u001b[1m2s\u001b[0m 1ms/step - accuracy: 0.0693 - loss: 5.8556 - val_accuracy: 0.1455 - val_loss: 5.1054\n",
      "Epoch 2/30\n",
      "\u001b[1m1334/1334\u001b[0m \u001b[32m━━━━━━━━━━━━━━━━━━━━\u001b[0m\u001b[37m\u001b[0m \u001b[1m2s\u001b[0m 1ms/step - accuracy: 0.1388 - loss: 4.7392 - val_accuracy: 0.1635 - val_loss: 4.8581\n",
      "Epoch 3/30\n",
      "\u001b[1m1334/1334\u001b[0m \u001b[32m━━━━━━━━━━━━━━━━━━━━\u001b[0m\u001b[37m\u001b[0m \u001b[1m2s\u001b[0m 1ms/step - accuracy: 0.1648 - loss: 4.3392 - val_accuracy: 0.1740 - val_loss: 4.7260\n",
      "Epoch 4/30\n",
      "\u001b[1m1334/1334\u001b[0m \u001b[32m━━━━━━━━━━━━━━━━━━━━\u001b[0m\u001b[37m\u001b[0m \u001b[1m2s\u001b[0m 1ms/step - accuracy: 0.1799 - loss: 4.0126 - val_accuracy: 0.1870 - val_loss: 4.6545\n",
      "Epoch 5/30\n",
      "\u001b[1m1334/1334\u001b[0m \u001b[32m━━━━━━━━━━━━━━━━━━━━\u001b[0m\u001b[37m\u001b[0m \u001b[1m2s\u001b[0m 1ms/step - accuracy: 0.2007 - loss: 3.7612 - val_accuracy: 0.1905 - val_loss: 4.5910\n",
      "Epoch 6/30\n",
      "\u001b[1m1334/1334\u001b[0m \u001b[32m━━━━━━━━━━━━━━━━━━━━\u001b[0m\u001b[37m\u001b[0m \u001b[1m2s\u001b[0m 1ms/step - accuracy: 0.2096 - loss: 3.5138 - val_accuracy: 0.1850 - val_loss: 4.5963\n",
      "Epoch 7/30\n",
      "\u001b[1m1334/1334\u001b[0m \u001b[32m━━━━━━━━━━━━━━━━━━━━\u001b[0m\u001b[37m\u001b[0m \u001b[1m2s\u001b[0m 1ms/step - accuracy: 0.2239 - loss: 3.3291 - val_accuracy: 0.1940 - val_loss: 4.5996\n",
      "Epoch 8/30\n",
      "\u001b[1m1334/1334\u001b[0m \u001b[32m━━━━━━━━━━━━━━━━━━━━\u001b[0m\u001b[37m\u001b[0m \u001b[1m2s\u001b[0m 1ms/step - accuracy: 0.2393 - loss: 3.1800 - val_accuracy: 0.1890 - val_loss: 4.6653\n",
      "Epoch 9/30\n",
      "\u001b[1m1334/1334\u001b[0m \u001b[32m━━━━━━━━━━━━━━━━━━━━\u001b[0m\u001b[37m\u001b[0m \u001b[1m2s\u001b[0m 1ms/step - accuracy: 0.2601 - loss: 3.0401 - val_accuracy: 0.1870 - val_loss: 4.6947\n",
      "Epoch 10/30\n",
      "\u001b[1m1334/1334\u001b[0m \u001b[32m━━━━━━━━━━━━━━━━━━━━\u001b[0m\u001b[37m\u001b[0m \u001b[1m2s\u001b[0m 1ms/step - accuracy: 0.2738 - loss: 2.9126 - val_accuracy: 0.1785 - val_loss: 4.7754\n",
      "Epoch 11/30\n",
      "\u001b[1m1334/1334\u001b[0m \u001b[32m━━━━━━━━━━━━━━━━━━━━\u001b[0m\u001b[37m\u001b[0m \u001b[1m2s\u001b[0m 1ms/step - accuracy: 0.2890 - loss: 2.7808 - val_accuracy: 0.1845 - val_loss: 4.7847\n",
      "Epoch 12/30\n",
      "\u001b[1m1334/1334\u001b[0m \u001b[32m━━━━━━━━━━━━━━━━━━━━\u001b[0m\u001b[37m\u001b[0m \u001b[1m2s\u001b[0m 1ms/step - accuracy: 0.2946 - loss: 2.7042 - val_accuracy: 0.1825 - val_loss: 4.8457\n",
      "Epoch 13/30\n",
      "\u001b[1m1334/1334\u001b[0m \u001b[32m━━━━━━━━━━━━━━━━━━━━\u001b[0m\u001b[37m\u001b[0m \u001b[1m2s\u001b[0m 1ms/step - accuracy: 0.3094 - loss: 2.6329 - val_accuracy: 0.1770 - val_loss: 4.9057\n",
      "Epoch 14/30\n",
      "\u001b[1m1334/1334\u001b[0m \u001b[32m━━━━━━━━━━━━━━━━━━━━\u001b[0m\u001b[37m\u001b[0m \u001b[1m2s\u001b[0m 1ms/step - accuracy: 0.3146 - loss: 2.5419 - val_accuracy: 0.1800 - val_loss: 4.9944\n",
      "Epoch 15/30\n",
      "\u001b[1m1334/1334\u001b[0m \u001b[32m━━━━━━━━━━━━━━━━━━━━\u001b[0m\u001b[37m\u001b[0m \u001b[1m2s\u001b[0m 1ms/step - accuracy: 0.3189 - loss: 2.4888 - val_accuracy: 0.1720 - val_loss: 5.0618\n",
      "Epoch 16/30\n",
      "\u001b[1m1334/1334\u001b[0m \u001b[32m━━━━━━━━━━━━━━━━━━━━\u001b[0m\u001b[37m\u001b[0m \u001b[1m2s\u001b[0m 1ms/step - accuracy: 0.3381 - loss: 2.4188 - val_accuracy: 0.1780 - val_loss: 5.1009\n",
      "Epoch 17/30\n",
      "\u001b[1m1334/1334\u001b[0m \u001b[32m━━━━━━━━━━━━━━━━━━━━\u001b[0m\u001b[37m\u001b[0m \u001b[1m2s\u001b[0m 1ms/step - accuracy: 0.3527 - loss: 2.3609 - val_accuracy: 0.1680 - val_loss: 5.1527\n",
      "Epoch 18/30\n",
      "\u001b[1m1334/1334\u001b[0m \u001b[32m━━━━━━━━━━━━━━━━━━━━\u001b[0m\u001b[37m\u001b[0m \u001b[1m2s\u001b[0m 1ms/step - accuracy: 0.3583 - loss: 2.3068 - val_accuracy: 0.1645 - val_loss: 5.2273\n",
      "Epoch 19/30\n",
      "\u001b[1m1334/1334\u001b[0m \u001b[32m━━━━━━━━━━━━━━━━━━━━\u001b[0m\u001b[37m\u001b[0m \u001b[1m2s\u001b[0m 1ms/step - accuracy: 0.3540 - loss: 2.2737 - val_accuracy: 0.1595 - val_loss: 5.2585\n",
      "Epoch 20/30\n",
      "\u001b[1m1334/1334\u001b[0m \u001b[32m━━━━━━━━━━━━━━━━━━━━\u001b[0m\u001b[37m\u001b[0m \u001b[1m2s\u001b[0m 1ms/step - accuracy: 0.3633 - loss: 2.2469 - val_accuracy: 0.1645 - val_loss: 5.3190\n",
      "Epoch 21/30\n",
      "\u001b[1m1334/1334\u001b[0m \u001b[32m━━━━━━━━━━━━━━━━━━━━\u001b[0m\u001b[37m\u001b[0m \u001b[1m2s\u001b[0m 1ms/step - accuracy: 0.3666 - loss: 2.2016 - val_accuracy: 0.1580 - val_loss: 5.3453\n",
      "Epoch 22/30\n",
      "\u001b[1m1334/1334\u001b[0m \u001b[32m━━━━━━━━━━━━━━━━━━━━\u001b[0m\u001b[37m\u001b[0m \u001b[1m2s\u001b[0m 1ms/step - accuracy: 0.3717 - loss: 2.1892 - val_accuracy: 0.1570 - val_loss: 5.3526\n",
      "Epoch 23/30\n",
      "\u001b[1m1334/1334\u001b[0m \u001b[32m━━━━━━━━━━━━━━━━━━━━\u001b[0m\u001b[37m\u001b[0m \u001b[1m2s\u001b[0m 1ms/step - accuracy: 0.3777 - loss: 2.1351 - val_accuracy: 0.1545 - val_loss: 5.4544\n",
      "Epoch 24/30\n",
      "\u001b[1m1334/1334\u001b[0m \u001b[32m━━━━━━━━━━━━━━━━━━━━\u001b[0m\u001b[37m\u001b[0m \u001b[1m2s\u001b[0m 1ms/step - accuracy: 0.3804 - loss: 2.1173 - val_accuracy: 0.1590 - val_loss: 5.4819\n",
      "Epoch 25/30\n",
      "\u001b[1m1334/1334\u001b[0m \u001b[32m━━━━━━━━━━━━━━━━━━━━\u001b[0m\u001b[37m\u001b[0m \u001b[1m2s\u001b[0m 1ms/step - accuracy: 0.3910 - loss: 2.0553 - val_accuracy: 0.1590 - val_loss: 5.4874\n",
      "Epoch 26/30\n",
      "\u001b[1m1334/1334\u001b[0m \u001b[32m━━━━━━━━━━━━━━━━━━━━\u001b[0m\u001b[37m\u001b[0m \u001b[1m2s\u001b[0m 1ms/step - accuracy: 0.3891 - loss: 2.0835 - val_accuracy: 0.1645 - val_loss: 5.6042\n",
      "Epoch 27/30\n",
      "\u001b[1m1334/1334\u001b[0m \u001b[32m━━━━━━━━━━━━━━━━━━━━\u001b[0m\u001b[37m\u001b[0m \u001b[1m2s\u001b[0m 1ms/step - accuracy: 0.3979 - loss: 2.0364 - val_accuracy: 0.1640 - val_loss: 5.5940\n",
      "Epoch 28/30\n",
      "\u001b[1m1334/1334\u001b[0m \u001b[32m━━━━━━━━━━━━━━━━━━━━\u001b[0m\u001b[37m\u001b[0m \u001b[1m2s\u001b[0m 1ms/step - accuracy: 0.4096 - loss: 2.0009 - val_accuracy: 0.1565 - val_loss: 5.6305\n",
      "Epoch 29/30\n",
      "\u001b[1m1334/1334\u001b[0m \u001b[32m━━━━━━━━━━━━━━━━━━━━\u001b[0m\u001b[37m\u001b[0m \u001b[1m2s\u001b[0m 1ms/step - accuracy: 0.4040 - loss: 2.0029 - val_accuracy: 0.1550 - val_loss: 5.6588\n",
      "Epoch 30/30\n",
      "\u001b[1m1334/1334\u001b[0m \u001b[32m━━━━━━━━━━━━━━━━━━━━\u001b[0m\u001b[37m\u001b[0m \u001b[1m2s\u001b[0m 1ms/step - accuracy: 0.4184 - loss: 1.9598 - val_accuracy: 0.1640 - val_loss: 5.6745\n"
     ]
    }
   ],
   "source": [
    "epochs = 30\n",
    "history = model.fit(\n",
    "    train_ds,\n",
    "    validation_data=val_ds,\n",
    "    epochs=epochs\n",
    "    # ,\n",
    "    # callbacks=[callbacks]\n",
    ")"
   ]
  },
  {
   "cell_type": "code",
   "execution_count": null,
   "id": "1927bbac-3eb3-4797-a157-9f2d8a8b32ca",
   "metadata": {},
   "outputs": [],
   "source": [
    "loss, accuracy = model.evaluate(val_ds)\n",
    "\n",
    "print(\"Loss: \", loss)\n",
    "print(\"Accuracy: \", accuracy)"
   ]
  },
  {
   "cell_type": "code",
   "execution_count": 946,
   "id": "b4e6d4c2-d4a9-4227-bdaa-77c00451f2f3",
   "metadata": {},
   "outputs": [
    {
     "data": {
      "text/plain": [
       "dict_keys(['loss', 'sparse_categorical_accuracy', 'val_loss', 'val_sparse_categorical_accuracy'])"
      ]
     },
     "execution_count": 946,
     "metadata": {},
     "output_type": "execute_result"
    }
   ],
   "source": [
    "history_dict = history.history\n",
    "history_dict.keys()"
   ]
  },
  {
   "cell_type": "code",
   "execution_count": 947,
   "id": "b0bebc3a-aa3b-4a8a-a8be-c0de8d30e05c",
   "metadata": {},
   "outputs": [
    {
     "ename": "KeyError",
     "evalue": "'accuracy'",
     "output_type": "error",
     "traceback": [
      "\u001b[0;31m---------------------------------------------------------------------------\u001b[0m",
      "\u001b[0;31mKeyError\u001b[0m                                  Traceback (most recent call last)",
      "Cell \u001b[0;32mIn[947], line 1\u001b[0m\n\u001b[0;32m----> 1\u001b[0m acc \u001b[38;5;241m=\u001b[39m \u001b[43mhistory_dict\u001b[49m\u001b[43m[\u001b[49m\u001b[38;5;124;43m'\u001b[39;49m\u001b[38;5;124;43maccuracy\u001b[39;49m\u001b[38;5;124;43m'\u001b[39;49m\u001b[43m]\u001b[49m\n\u001b[1;32m      2\u001b[0m val_acc \u001b[38;5;241m=\u001b[39m history_dict[\u001b[38;5;124m'\u001b[39m\u001b[38;5;124mval_accuracy\u001b[39m\u001b[38;5;124m'\u001b[39m]\n\u001b[1;32m      3\u001b[0m loss \u001b[38;5;241m=\u001b[39m history_dict[\u001b[38;5;124m'\u001b[39m\u001b[38;5;124mloss\u001b[39m\u001b[38;5;124m'\u001b[39m]\n",
      "\u001b[0;31mKeyError\u001b[0m: 'accuracy'"
     ]
    }
   ],
   "source": [
    "acc = history_dict['accuracy']\n",
    "val_acc = history_dict['val_accuracy']\n",
    "loss = history_dict['loss']\n",
    "val_loss = history_dict['val_loss']\n",
    "\n",
    "epochs = range(1, len(acc) + 1)\n",
    "\n",
    "# \"bo\" is for \"blue dot\"\n",
    "plt.plot(epochs, loss, 'bo', label='Training loss')\n",
    "# b is for \"solid blue line\"\n",
    "plt.plot(epochs, val_loss, 'b', label='Validation loss')\n",
    "plt.title('Training and validation loss')\n",
    "plt.xlabel('Epochs')\n",
    "plt.ylabel('Loss')\n",
    "plt.legend()\n",
    "\n",
    "plt.show()"
   ]
  },
  {
   "cell_type": "code",
   "execution_count": 803,
   "id": "85169906-f875-42c0-bc79-d2e5c4a9552e",
   "metadata": {},
   "outputs": [
    {
     "data": {
      "image/png": "[encoded data removed]",
      "text/plain": [
       "<Figure size 640x480 with 1 Axes>"
      ]
     },
     "metadata": {},
     "output_type": "display_data"
    }
   ],
   "source": [
    "plt.plot(epochs, acc, 'bo', label='Training acc')\n",
    "plt.plot(epochs, val_acc, 'b', label='Validation acc')\n",
    "plt.title('Training and validation accuracy')\n",
    "plt.xlabel('Epochs')\n",
    "plt.ylabel('Accuracy')\n",
    "plt.legend(loc='lower right')\n",
    "\n",
    "plt.show()"
   ]
  },
  {
   "cell_type": "code",
   "execution_count": 805,
   "id": "8d29c782-d3fe-498f-9261-080ce786ad62",
   "metadata": {},
   "outputs": [],
   "source": [
    "probability_model = tf.keras.Sequential([model, \n",
    "                                         tf.keras.layers.Softmax()])"
   ]
  },
  {
   "cell_type": "code",
   "execution_count": 806,
   "id": "fc256d2c-a962-4613-a68b-74a355fa767b",
   "metadata": {},
   "outputs": [
    {
     "name": "stdout",
     "output_type": "stream",
     "text": [
      "\u001b[1m32/32\u001b[0m \u001b[32m━━━━━━━━━━━━━━━━━━━━\u001b[0m\u001b[37m\u001b[0m \u001b[1m0s\u001b[0m 2ms/step\n"
     ]
    }
   ],
   "source": [
    "predictions = probability_model.predict(test_ds)"
   ]
  },
  {
   "cell_type": "code",
   "execution_count": 807,
   "id": "de93f03a-0abc-4b1c-b536-29d6742912fd",
   "metadata": {},
   "outputs": [
    {
     "data": {
      "text/plain": [
       "array([0.00083066, 0.00083056, 0.00083067, ..., 0.00083066, 0.00083067,\n",
       "       0.00083142], dtype=float32)"
      ]
     },
     "execution_count": 807,
     "metadata": {},
     "output_type": "execute_result"
    }
   ],
   "source": [
    "predictions[0]"
   ]
  },
  {
   "cell_type": "code",
   "execution_count": 808,
   "id": "91c82802-31c2-437e-8d00-2545b869eb2c",
   "metadata": {},
   "outputs": [
    {
     "data": {
      "text/plain": [
       "762"
      ]
     },
     "execution_count": 808,
     "metadata": {},
     "output_type": "execute_result"
    }
   ],
   "source": [
    "np.argmax(predictions[0])"
   ]
  },
  {
   "cell_type": "code",
   "execution_count": 810,
   "id": "ba0d7a87-b579-49a7-884c-a935e225c6e0",
   "metadata": {},
   "outputs": [],
   "source": [
    "desc = test_ds.take(1)\n",
    "desc = (np.expand_dims(desc,0))"
   ]
  }
 ],
 "metadata": {
  "kernelspec": {
   "display_name": "Python 3 (ipykernel)",
   "language": "python",
   "name": "python3"
  },
  "language_info": {
   "codemirror_mode": {
    "name": "ipython",
    "version": 3
   },
   "file_extension": ".py",
   "mimetype": "text/x-python",
   "name": "python",
   "nbconvert_exporter": "python",
   "pygments_lexer": "ipython3",
   "version": "3.12.2"
  }
 },
 "nbformat": 4,
 "nbformat_minor": 5
}
